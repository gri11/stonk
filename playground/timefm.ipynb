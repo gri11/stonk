{
 "cells": [
  {
   "cell_type": "code",
   "execution_count": null,
   "metadata": {},
   "outputs": [],
   "source": [
    "# download model from huggingface\n",
    "from transformers import BertTokenizer, BertModel\n",
    "# import automodel\n",
    "from transformers import AutoModel, AutoTokenizer\n",
    "import torch\n",
    "import os\n",
    "\n",
    "# Load pre-trained model\n",
    "model_name = \"google/timesfm-1.0-200m\"\n",
    "# this model is forcasting time series data\n",
    "model = AutoModel.from_pretrained(model_name)\n",
    "\n",
    "model\n",
    "\n",
    "# backend: Literal['cpu','gpu','tpu']\n",
    "backend = 'cpu'"
   ]
  }
 ],
 "metadata": {
  "language_info": {
   "name": "python"
  }
 },
 "nbformat": 4,
 "nbformat_minor": 2
}
